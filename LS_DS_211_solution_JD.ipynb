{
  "cells": [
    {
      "cell_type": "markdown",
      "metadata": {
        "id": "fAD8kRHQYXfj"
      },
      "source": [
        "BloomTech Data Science\n",
        "\n",
        "*Unit 2, Sprint 1, Module 1*\n",
        "\n",
        "---"
      ]
    },
    {
      "cell_type": "code",
      "execution_count": null,
      "metadata": {
        "id": "N7dI3MZrYXfo"
      },
      "outputs": [],
      "source": [
        "%%capture\n",
        "import sys\n",
        "\n",
        "# If you're on Colab:\n",
        "if 'google.colab' in sys.modules:\n",
        "    DATA_PATH = 'https://raw.githubusercontent.com/LambdaSchool/DS-Unit-2-Applied-Modeling/master/data/'\n",
        "\n",
        "# If you're working locally:\n",
        "else:\n",
        "    DATA_PATH = '../data/'"
      ]
    },
    {
      "cell_type": "markdown",
      "metadata": {
        "id": "wmcCokcPYXfp"
      },
      "source": [
        "# Module Project: Regression I\n",
        "\n",
        "During the guided project, we predicted how much it would cost to buy a condo in Tribecca. For the module project, your goal will be similar: predict how much it costs to rent an apartment in New York City.\n",
        "\n",
        "Dataset source: [renthop.com](https://www.renthop.com/).\n",
        "\n",
        "## Directions\n",
        "\n",
        "> Do Not Copy-Paste. You must *type* each of these exercises in, manually. If you copy and paste, you might as well not even do them. The point of these exercises is to train your hands, your brain, and your mind in how to read, write, and see code. If you copy-paste, you are cheating yourself out of the effectiveness of the lessons.\n",
        ">\n",
        "> — Zed Shaw, [Learn Python the Hard Way](https://learnpythonthehardway.org/)\n",
        "\n",
        "The tasks for this project are as follows:\n",
        "\n",
        "- **Task 1:** Import `csv` file using wrangle function.\n",
        "- **Task 2:** Conduct exploratory data analysis (EDA) and plot the relationship between one feature and the target `'price'`.\n",
        "- **Task 3:** Split data into feature matrix `X` and target vector `y`.\n",
        "- **Task 4:** Establish the baseline mean absolute error for your dataset.\n",
        "- **Task 5:** Build and train a `Linearregression` model.\n",
        "- **Task 6:** Check the mean absolute error of our model on the training data.\n",
        "- **Task 7:** Extract and print the intercept and coefficient from your `LinearRegression` model.\n",
        "\n",
        "**Note**\n",
        "\n",
        "You should limit yourself to the following libraries for this project:\n",
        "\n",
        "- `matplotlib`\n",
        "- `numpy`\n",
        "- `pandas`\n",
        "- `sklearn`"
      ]
    },
    {
      "cell_type": "markdown",
      "metadata": {
        "id": "9ZmX30FyYXfq"
      },
      "source": [
        "## I. Wrangle Data"
      ]
    },
    {
      "cell_type": "code",
      "execution_count": null,
      "metadata": {
        "id": "MMmqrwYuYXfr"
      },
      "outputs": [],
      "source": [
        "import pandas as pd\n",
        "import numpy as np\n",
        "def wrangle(filepath):\n",
        "    df = pd.read_csv(filepath)\n",
        "    \n",
        "    # Remove the most extreme 1% prices,\n",
        "    # the most extreme .1% latitudes, &\n",
        "    # the most extreme .1% longitudes\n",
        "    df = df[(df['price'] >= np.percentile(df['price'], 0.5)) & \n",
        "            (df['price'] <= np.percentile(df['price'], 99.5)) & \n",
        "            (df['latitude'] >= np.percentile(df['latitude'], 0.05)) & \n",
        "            (df['latitude'] < np.percentile(df['latitude'], 99.95)) &\n",
        "            (df['longitude'] >= np.percentile(df['longitude'], 0.05)) & \n",
        "            (df['longitude'] <= np.percentile(df['longitude'], 99.95))]\n",
        "    \n",
        "    return df\n",
        "\n",
        "filepath = DATA_PATH + 'apartments/renthop-nyc.csv'"
      ]
    },
    {
      "cell_type": "markdown",
      "metadata": {
        "id": "wrz3po46YXfs"
      },
      "source": [
        "**Task 1:** Use the above `wrangle` function to import the `renthop-nyc.csv` file into a DataFrame named `df`."
      ]
    },
    {
      "cell_type": "code",
      "execution_count": null,
      "metadata": {
        "id": "HuHkTK8lYXft"
      },
      "outputs": [],
      "source": [
        "df = wrangle(filepath)"
      ]
    },
    {
      "cell_type": "markdown",
      "metadata": {
        "id": "hUOhdbq9YXft"
      },
      "source": [
        "**Task 2:** Use your `pandas` and dataviz skills to explore the dataset. As part of this process, make a scatter plot that shows the relationship between one of the numerical features in the dataset and the target `'price'`.\n",
        "\n",
        "**Remember:** You should plot your feature on the `X` axis and your target on the `y` axis."
      ]
    },
    {
      "cell_type": "code",
      "execution_count": null,
      "metadata": {
        "id": "2ynOPIYlYXfu",
        "colab": {
          "base_uri": "https://localhost:8080/",
          "height": 1000
        },
        "outputId": "6e5adbbe-845e-43c9-ef4d-c47d3f8c83e8"
      },
      "outputs": [
        {
          "output_type": "stream",
          "name": "stdout",
          "text": [
            "          bathrooms      bedrooms      latitude     longitude         price  \\\n",
            "count  48817.000000  48817.000000  48817.000000  48817.000000  48817.000000   \n",
            "mean       1.201794      1.537149     40.750760    -73.972760   3579.585247   \n",
            "std        0.470711      1.106087      0.038954      0.028883   1762.430772   \n",
            "min        0.000000      0.000000     40.575700    -74.087300   1375.000000   \n",
            "25%        1.000000      1.000000     40.728300    -73.991800   2500.000000   \n",
            "50%        1.000000      1.000000     40.751700    -73.978000   3150.000000   \n",
            "75%        1.000000      2.000000     40.774000    -73.955000   4095.000000   \n",
            "max       10.000000      8.000000     40.989400    -73.700100  15500.000000   \n",
            "\n",
            "           elevator  cats_allowed  hardwood_floors  dogs_allowed  \\\n",
            "count  48817.000000  48817.000000     48817.000000  48817.000000   \n",
            "mean       0.524838      0.478276         0.478276      0.447631   \n",
            "std        0.499388      0.499533         0.499533      0.497255   \n",
            "min        0.000000      0.000000         0.000000      0.000000   \n",
            "25%        0.000000      0.000000         0.000000      0.000000   \n",
            "50%        1.000000      0.000000         0.000000      0.000000   \n",
            "75%        1.000000      1.000000         1.000000      1.000000   \n",
            "max        1.000000      1.000000         1.000000      1.000000   \n",
            "\n",
            "            doorman  ...  high_speed_internet       balcony  swimming_pool  \\\n",
            "count  48817.000000  ...         48817.000000  48817.000000   48817.000000   \n",
            "mean       0.424852  ...             0.087203      0.060471       0.055206   \n",
            "std        0.494326  ...             0.282136      0.238359       0.228385   \n",
            "min        0.000000  ...             0.000000      0.000000       0.000000   \n",
            "25%        0.000000  ...             0.000000      0.000000       0.000000   \n",
            "50%        0.000000  ...             0.000000      0.000000       0.000000   \n",
            "75%        1.000000  ...             0.000000      0.000000       0.000000   \n",
            "max        1.000000  ...             1.000000      1.000000       1.000000   \n",
            "\n",
            "       new_construction       terrace     exclusive          loft  \\\n",
            "count      48817.000000  48817.000000  48817.000000  48817.000000   \n",
            "mean           0.051908      0.046193      0.043305      0.042711   \n",
            "std            0.221844      0.209905      0.203544      0.202206   \n",
            "min            0.000000      0.000000      0.000000      0.000000   \n",
            "25%            0.000000      0.000000      0.000000      0.000000   \n",
            "50%            0.000000      0.000000      0.000000      0.000000   \n",
            "75%            0.000000      0.000000      0.000000      0.000000   \n",
            "max            1.000000      1.000000      1.000000      1.000000   \n",
            "\n",
            "       garden_patio  wheelchair_access  common_outdoor_space  \n",
            "count  48817.000000       48817.000000          48817.000000  \n",
            "mean       0.039331           0.027224              0.026241  \n",
            "std        0.194382           0.162738              0.159852  \n",
            "min        0.000000           0.000000              0.000000  \n",
            "25%        0.000000           0.000000              0.000000  \n",
            "50%        0.000000           0.000000              0.000000  \n",
            "75%        0.000000           0.000000              0.000000  \n",
            "max        1.000000           1.000000              1.000000  \n",
            "\n",
            "[8 rows x 29 columns]\n",
            "bathrooms                  0\n",
            "bedrooms                   0\n",
            "created                    0\n",
            "description             1425\n",
            "display_address          133\n",
            "latitude                   0\n",
            "longitude                  0\n",
            "price                      0\n",
            "street_address            10\n",
            "interest_level             0\n",
            "elevator                   0\n",
            "cats_allowed               0\n",
            "hardwood_floors            0\n",
            "dogs_allowed               0\n",
            "doorman                    0\n",
            "dishwasher                 0\n",
            "no_fee                     0\n",
            "laundry_in_building        0\n",
            "fitness_center             0\n",
            "pre-war                    0\n",
            "laundry_in_unit            0\n",
            "roof_deck                  0\n",
            "outdoor_space              0\n",
            "dining_room                0\n",
            "high_speed_internet        0\n",
            "balcony                    0\n",
            "swimming_pool              0\n",
            "new_construction           0\n",
            "terrace                    0\n",
            "exclusive                  0\n",
            "loft                       0\n",
            "garden_patio               0\n",
            "wheelchair_access          0\n",
            "common_outdoor_space       0\n",
            "dtype: int64\n"
          ]
        },
        {
          "output_type": "execute_result",
          "data": {
            "text/plain": [
              "<matplotlib.collections.PathCollection at 0x7fee032ee090>"
            ]
          },
          "metadata": {},
          "execution_count": 19
        },
        {
          "output_type": "display_data",
          "data": {
            "text/plain": [
              "<Figure size 432x288 with 1 Axes>"
            ],
            "image/png": "[encoded data removed]"
          },
          "metadata": {
            "needs_background": "light"
          }
        }
      ],
      "source": [
        "import matplotlib.pyplot as plt\n",
        "\n",
        "print(df.describe())\n",
        "print(df.isna().sum())\n",
        "\n",
        "plt.scatter(df['bedrooms'], df['price'])\n",
        "\n",
        "plt.scatter(df['bathrooms'], df['price'])\n"
      ]
    },
    {
      "cell_type": "markdown",
      "metadata": {
        "id": "WVfwFYZ_YXfv"
      },
      "source": [
        "#  II. Split Data\n",
        "\n",
        "**Task 3:** Choose one feature from the dataset and assign it to your feature matrix `X`. Then assign the column `'price'` to the target vector `y`.\n",
        "\n",
        "**Remember:** Your feature matrix needs to be two-dimensional, but your feature matrix must be one-dimensional."
      ]
    },
    {
      "cell_type": "code",
      "execution_count": null,
      "metadata": {
        "id": "zOUkxG7HYXfv",
        "colab": {
          "base_uri": "https://localhost:8080/"
        },
        "outputId": "7d23c23b-d24e-4543-9610-50d974fc3df9"
      },
      "outputs": [
        {
          "output_type": "execute_result",
          "data": {
            "text/plain": [
              "(48817, 1)"
            ]
          },
          "metadata": {},
          "execution_count": 28
        }
      ],
      "source": [
        "_X = df['bedrooms'].to_numpy()\n",
        "X = _X[:, np.newaxis]\n",
        "y = df['price']\n",
        "X.shape\n"
      ]
    },
    {
      "cell_type": "markdown",
      "metadata": {
        "id": "r-A1VdKOYXfw"
      },
      "source": [
        "# III. Establish Baseline\n",
        "\n",
        "**Task 4:** Since this is a **regression** problem, you need to calculate the baseline the mean absolute error for your model. First, calculate the mean of `y`. Next, create a list `y_pred` that has the same length as `y` and where every item in the list is the mean. Finally, use `mean_absolute_error` to calculate your baseline."
      ]
    },
    {
      "cell_type": "code",
      "execution_count": null,
      "metadata": {
        "id": "8EJwl-JcYXfw",
        "colab": {
          "base_uri": "https://localhost:8080/"
        },
        "outputId": "2a009dec-153d-40be-a68d-633da6b3b5e6"
      },
      "outputs": [
        {
          "output_type": "stream",
          "name": "stdout",
          "text": [
            "3579.5852469426636\n",
            "Baseline MAE: 1201.532252154329\n"
          ]
        }
      ],
      "source": [
        "from sklearn.metrics import mean_absolute_error\n",
        "\n",
        "y_mean = df['price'].mean()\n",
        "print(y_mean)\n",
        "y_pred = pd.Series(y_mean, df['price'].index) \n",
        "#print(y_pred)\n",
        "baseline_mae = mean_absolute_error(df['price'], y_pred)\n",
        "print('Baseline MAE:', baseline_mae)"
      ]
    },
    {
      "cell_type": "markdown",
      "metadata": {
        "id": "JyuKLdGBYXfx"
      },
      "source": [
        "# IV. Build Model\n",
        "\n",
        "**Task 5:** Build and train a `LinearRegression` model named `model` using your feature matrix `X` and your target vector `y`."
      ]
    },
    {
      "cell_type": "code",
      "execution_count": null,
      "metadata": {
        "id": "5bMN4kDHYXfx",
        "colab": {
          "base_uri": "https://localhost:8080/"
        },
        "outputId": "aece6b43-cb6f-4a87-9bc9-c045b19a3eed"
      },
      "outputs": [
        {
          "output_type": "stream",
          "name": "stdout",
          "text": [
            "[853.26640848]\n",
            "2267.987688178934\n"
          ]
        }
      ],
      "source": [
        "# Step 1: Import predictor class\n",
        "\n",
        "from sklearn.linear_model import LinearRegression\n",
        "\n",
        "# Step 2: Instantiate predictor\n",
        "model = LinearRegression()\n",
        "\n",
        "# Step 3: Fit predictor on the (training) data\n",
        "model.fit(X, y)\n"
      ]
    },
    {
      "cell_type": "markdown",
      "metadata": {
        "id": "gH3gfZjiYXfx"
      },
      "source": [
        "# V. Check Metrics\n",
        "\n",
        "**Task 6:** How does your model perform in comparison to your baseline? Calculate the mean absolute error for your model's predictions."
      ]
    },
    {
      "cell_type": "code",
      "execution_count": null,
      "metadata": {
        "id": "06mF9O0hYXfy",
        "colab": {
          "base_uri": "https://localhost:8080/"
        },
        "outputId": "0cc735e2-df19-48a2-81e6-f9c9f038f13c"
      },
      "outputs": [
        {
          "output_type": "stream",
          "name": "stdout",
          "text": [
            "Training MAE: 975.6496767374764\n"
          ]
        }
      ],
      "source": [
        "\n",
        "training_mae = mean_absolute_error(df['price'], model.predict(X))\n",
        "\n",
        "print('Training MAE:', training_mae)"
      ]
    },
    {
      "cell_type": "markdown",
      "metadata": {
        "id": "KoFOVbJaYXfy"
      },
      "source": [
        "# VI. Communicate Results \n",
        "\n",
        "You've just created a linear model. That means that your model makes predictions using an equation that looks like $\\texttt{apt price} = \\texttt{intercept}~+~\\texttt{coefficient}~\\times~\\texttt{your feature}$. But what are the values of the intercept and coefficient that your model is using? \n",
        "\n",
        "**Task 7:** Print out the intercept and coefficient associated with `model`."
      ]
    },
    {
      "cell_type": "code",
      "execution_count": null,
      "metadata": {
        "id": "HCDFrzPWYXfz",
        "colab": {
          "base_uri": "https://localhost:8080/"
        },
        "outputId": "a9ed7b1f-7817-4d95-f407-f5e68aaff89d"
      },
      "outputs": [
        {
          "output_type": "stream",
          "name": "stdout",
          "text": [
            "853.266408483175\n",
            "2267.987688178934\n"
          ]
        }
      ],
      "source": [
        "print(model.intercept_)\n",
        "print(model.coef_[0])"
      ]
    },
    {
      "cell_type": "code",
      "source": [
        "x_line = np.linspace(0, 10)\n",
        "y_line = model.coef_[0]*x_line + model.intercept_\n",
        "\n",
        "#pyplot code\n",
        "\n",
        "plt.clf() #clear plot when we re-run cell\n",
        "fig, ax = plt.subplots(1)\n",
        "ax.scatter(x = df['bedrooms'], y = df['price'], label=\"observed data\")\n",
        "ax.plot(x_line, y_line, color='g', label=\"model\")\n",
        "ax.set_xlabel('Bedrooms')\n",
        "ax.set_ylabel('Sale Price')\n",
        "ax.legend()\n",
        "\n",
        "plt.show()\n"
      ],
      "metadata": {
        "colab": {
          "base_uri": "https://localhost:8080/",
          "height": 297
        },
        "id": "ti-4pywZ3kIH",
        "outputId": "3a5b97dd-07ad-4358-9c38-b66c71d4778d"
      },
      "execution_count": null,
      "outputs": [
        {
          "output_type": "display_data",
          "data": {
            "text/plain": [
              "<Figure size 432x288 with 0 Axes>"
            ]
          },
          "metadata": {}
        },
        {
          "output_type": "display_data",
          "data": {
            "text/plain": [
              "<Figure size 432x288 with 1 Axes>"
            ],
            "image/png": "[encoded data removed]"
          },
          "metadata": {
            "needs_background": "light"
          }
        }
      ]
    }
  ],
  "metadata": {
    "colab": {
      "collapsed_sections": [],
      "name": "LS_DS_211_solution_JD.ipynb",
      "provenance": []
    },
    "kernelspec": {
      "display_name": "Python 3",
      "language": "python",
      "name": "python3"
    },
    "language_info": {
      "codemirror_mode": {
        "name": "ipython",
        "version": 3
      },
      "file_extension": ".py",
      "mimetype": "text/x-python",
      "name": "python",
      "nbconvert_exporter": "python",
      "pygments_lexer": "ipython3",
      "version": "3.8.5"
    }
  },
  "nbformat": 4,
  "nbformat_minor": 0
}